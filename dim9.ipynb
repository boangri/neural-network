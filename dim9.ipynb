{
 "cells": [
  {
   "cell_type": "markdown",
   "metadata": {},
   "source": [
    "# Create and train network\n",
    "\n",
    "create and train network"
   ]
  },
  {
   "cell_type": "code",
   "execution_count": 141,
   "metadata": {},
   "outputs": [],
   "source": [
    "import csv\n",
    "\n",
    "dim = 10\n",
    "size = pow(2, dim)\n",
    "\n",
    "data_file = open(f'data{dim}.csv', mode='r')\n",
    "dreader = csv.reader(data_file, delimiter=',')\n",
    "\n",
    "target_file = open(f'target{dim}.csv', mode='r')\n",
    "treader = csv.reader(target_file, delimiter=',')"
   ]
  },
  {
   "cell_type": "code",
   "execution_count": 138,
   "metadata": {},
   "outputs": [],
   "source": [
    "data = []\n",
    "target = []\n",
    "for row in dreader:\n",
    "    y = []\n",
    "    for x in row:\n",
    "        y.append(float(x))\n",
    "    data.append(y)\n",
    "    \n",
    "for row in treader:\n",
    "    y = []\n",
    "    for x in row:\n",
    "        y.append(float(x))\n",
    "    target.append(y)\n",
    "    "
   ]
  },
  {
   "cell_type": "code",
   "execution_count": 139,
   "metadata": {},
   "outputs": [
    {
     "name": "stdout",
     "output_type": "stream",
     "text": [
      "Training done, it took  234.36777305603027  secs\n"
     ]
    }
   ],
   "source": [
    "import time\n",
    "import random\n",
    "\n",
    "input_nodes = dim\n",
    "hidden_nodes = dim * 40\n",
    "output_nodes = dim + 1\n",
    "# learning rate is 0.3\n",
    "learning_rate = 0.3\n",
    "# create instance of neural network\n",
    "nn = neuralNetwork(input_nodes,hidden_nodes,output_nodes,learning_rate)\n",
    "\n",
    "# start traing sessions\n",
    "sessions = 1000\n",
    "nst = 100\n",
    "\n",
    "ind = list(range(size))\n",
    "random.shuffle(ind)\n",
    "t_start = time.time()\n",
    "for j in range(sessions):\n",
    "    tind = ind[:size - nst]\n",
    "    random.shuffle(tind)\n",
    "    for i in range(size - nst):\n",
    "        nn.train(data[tind[i]], target[tind[i]])\n",
    "t = time.time() - t_start\n",
    "print (\"Training done, it took \", t, \" secs\")"
   ]
  },
  {
   "cell_type": "code",
   "execution_count": 140,
   "metadata": {},
   "outputs": [
    {
     "name": "stdout",
     "output_type": "stream",
     "text": [
      "['0.0', '0.0', '0.0', '0.0', '0.0', '0.0', '0.0', '0.0', '0.9', '0.1', '0.0']\n",
      "['0.0', '0.0', '0.0', '0.0', '0.0', '0.0', '0.0', '0.0', '0.0', '1.0', '0.0']\n",
      "0.09776042611333603\n",
      "avg= 0.962  dev= 0.137  min= 0.098\n"
     ]
    }
   ],
   "source": [
    "ss = 0.0\n",
    "ss2 = 0.0\n",
    "min = 1.0\n",
    "nst = 100\n",
    "for i in range(size - nst, size):\n",
    "    res = nn.query(data[ind[i]])\n",
    "    s = 0.0\n",
    "    for j in range(dim + 1):\n",
    "        s += res[j, 0]*target[ind[i]][j]\n",
    "    y = []\n",
    "    z = []\n",
    "    for j in range(dim + 1):\n",
    "        y.append(format(res[j,0], '.1f'))\n",
    "    for k in target[ind[i]]:\n",
    "        z.append(format(k, '.1f'))\n",
    "    ss += s\n",
    "    ss2 += s*s\n",
    "    if s < min:\n",
    "        min = s\n",
    "    if s < 0.1:\n",
    "        print(y)\n",
    "        print(z)\n",
    "        print(s)\n",
    "avg = ss / nst\n",
    "var = ss2 / nst\n",
    "dev = pow(var - avg*avg, 0.5)\n",
    "print('avg=', format(avg, '0.3f'), \" dev=\", format(dev, '0.3f'), \" min=\", format(min, '0.3f'))"
   ]
  },
  {
   "cell_type": "code",
   "execution_count": null,
   "metadata": {},
   "outputs": [],
   "source": []
  }
 ],
 "metadata": {
  "kernelspec": {
   "display_name": "Python 3",
   "language": "python",
   "name": "python3"
  },
  "language_info": {
   "codemirror_mode": {
    "name": "ipython",
    "version": 3
   },
   "file_extension": ".py",
   "mimetype": "text/x-python",
   "name": "python",
   "nbconvert_exporter": "python",
   "pygments_lexer": "ipython3",
   "version": "3.7.4"
  }
 },
 "nbformat": 4,
 "nbformat_minor": 4
}
