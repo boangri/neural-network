{
 "cells": [
  {
   "cell_type": "markdown",
   "metadata": {},
   "source": [
    "# Create and train network\n",
    "\n",
    "create and train network"
   ]
  },
  {
   "cell_type": "code",
   "execution_count": 37,
   "metadata": {},
   "outputs": [],
   "source": [
    "import csv\n",
    "\n",
    "dim = 11\n",
    "size = pow(2, dim)\n",
    "\n",
    "data_file = open(f'data{dim}.csv', mode='r')\n",
    "dreader = csv.reader(data_file, delimiter=',')\n",
    "\n",
    "target_file = open(f'target{dim}.csv', mode='r')\n",
    "treader = csv.reader(target_file, delimiter=',')"
   ]
  },
  {
   "cell_type": "code",
   "execution_count": 38,
   "metadata": {},
   "outputs": [
    {
     "name": "stdout",
     "output_type": "stream",
     "text": [
      "2048\n",
      "2048\n"
     ]
    }
   ],
   "source": [
    "data = []\n",
    "target = []\n",
    "for row in dreader:\n",
    "    y = []\n",
    "    for x in row:\n",
    "        y.append(float(x))\n",
    "    data.append(y)\n",
    "    \n",
    "for row in treader:\n",
    "    y = []\n",
    "    for x in row:\n",
    "        y.append(float(x))\n",
    "    target.append(y)\n",
    "    \n",
    "print(len(data))\n",
    "print(len(target))"
   ]
  },
  {
   "cell_type": "code",
   "execution_count": 41,
   "metadata": {},
   "outputs": [
    {
     "name": "stdout",
     "output_type": "stream",
     "text": [
      "1024\n",
      "Training done, it took  32.42913341522217  secs\n"
     ]
    }
   ],
   "source": [
    "import time\n",
    "import random\n",
    "from neural.neuralNetwork import neuralNetwork\n",
    "\n",
    "\n",
    "random.seed(144)\n",
    "input_nodes = dim\n",
    "hidden_nodes = dim * 4\n",
    "output_nodes = dim + 1\n",
    "# learning rate is 0.3\n",
    "learning_rate = 0.3\n",
    "# create instance of neural network\n",
    "nn = neuralNetwork(input_nodes,hidden_nodes,output_nodes,learning_rate)\n",
    "\n",
    "# start traing sessions\n",
    "sessions = 200\n",
    "nst = int(size / 2) \n",
    "print(nst)\n",
    "\n",
    "x = []\n",
    "y_avg = []\n",
    "y_min = []\n",
    "y_dev = []\n",
    "\n",
    "ind = list(range(size))\n",
    "random.shuffle(ind)\n",
    "t_start = time.time()\n",
    "for js in range(sessions):\n",
    "    tind = ind[:nst]\n",
    "    random.shuffle(tind)\n",
    "    for i in range(nst):\n",
    "        nn.train(data[tind[i]], target[tind[i]])\n",
    "    if True:\n",
    "        ss = 0.0\n",
    "        ss2 = 0.0\n",
    "        max = 0.0\n",
    "        for i in range(nst, size):\n",
    "            res = nn.query(data[ind[i]])\n",
    "            s = 0.0\n",
    "            for j in range(2, dim -2):\n",
    "                s += pow(res[j, 0]-target[ind[i]][j], 2)\n",
    "            y = []\n",
    "            z = []\n",
    "            for j in range(dim + 1):\n",
    "                y.append(format(res[j,0], '.1f'))\n",
    "            for k in target[ind[i]]:\n",
    "                z.append(format(k, '.1f'))\n",
    "            # big error    \n",
    "            #if s > 1.95:\n",
    "            #    print(data[ind[i]], y)\n",
    "            ss += s\n",
    "            ss2 += s*s\n",
    "            if s > max:\n",
    "                max = s\n",
    "        avg = ss / nst\n",
    "        var = ss2 / nst\n",
    "        dev = pow(var - avg*avg, 0.5)\n",
    "        #print('avg=', format(avg, '0.3f'), \" dev=\", format(dev, '0.3f'), \" max err=\", format(max, '0.3f'))\n",
    "        x.append(js)\n",
    "        y_avg.append(avg)\n",
    "        y_min.append(max)\n",
    "        y_dev.append(dev)\n",
    "t = time.time() - t_start\n",
    "print (\"Training done, it took \", t, \" secs\")"
   ]
  },
  {
   "cell_type": "code",
   "execution_count": 42,
   "metadata": {},
   "outputs": [
    {
     "data": {
      "image/png": "[encoded data removed]",
      "text/plain": [
       "<Figure size 864x432 with 1 Axes>"
      ]
     },
     "metadata": {
      "needs_background": "light"
     },
     "output_type": "display_data"
    }
   ],
   "source": [
    "%matplotlib inline\n",
    "\n",
    "import matplotlib.pyplot as plt\n",
    "import numpy as np\n",
    "\n",
    "plt.figure(figsize=(12, 6))\n",
    "ax = plt.axes()\n",
    "plt.scatter(x, y_avg, marker='.', color='red', label='Average')\n",
    "plt.scatter(x, y_dev, marker='.', color='blue', label='Dev')\n",
    "#plt.scatter(x, y_min, marker='.', color='green', label='Max')\n",
    "plt.xlim(0, sessions)\n",
    "plt.ylim(0, 1)\n",
    "plt.xlabel('Number of epochs')\n",
    "plt.ylabel('Error')\n",
    "plt.title(f'dim={dim}, train data={nst} hidden_nodes={hidden_nodes}, learning_rate={learning_rate}')\n",
    "ax.grid(b=True, which='both')\n",
    "\n",
    "ax.legend(fancybox=True, framealpha=1, shadow=True, borderpad=1);\n"
   ]
  },
  {
   "cell_type": "code",
   "execution_count": 43,
   "metadata": {},
   "outputs": [
    {
     "data": {
      "text/plain": [
       "<Figure size 432x288 with 0 Axes>"
      ]
     },
     "metadata": {},
     "output_type": "display_data"
    }
   ],
   "source": [
    "plt.savefig('d10-hn400.png')"
   ]
  },
  {
   "cell_type": "code",
   "execution_count": null,
   "metadata": {},
   "outputs": [],
   "source": []
  }
 ],
 "metadata": {
  "kernelspec": {
   "display_name": "Python 3",
   "language": "python",
   "name": "python3"
  },
  "language_info": {
   "codemirror_mode": {
    "name": "ipython",
    "version": 3
   },
   "file_extension": ".py",
   "mimetype": "text/x-python",
   "name": "python",
   "nbconvert_exporter": "python",
   "pygments_lexer": "ipython3",
   "version": "3.7.4"
  }
 },
 "nbformat": 4,
 "nbformat_minor": 4
}
