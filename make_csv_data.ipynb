{
 "cells": [
  {
   "cell_type": "code",
   "execution_count": 8,
   "metadata": {},
   "outputs": [
    {
     "data": {
      "text/plain": [
       "\"\\nСоздание данных для обучения и тестирования для сети 'dim'\\nAchtung! Непонятные глюки - файлы создаются не с первого раза!\\n\\n\""
      ]
     },
     "execution_count": 8,
     "metadata": {},
     "output_type": "execute_result"
    }
   ],
   "source": [
    "'''\n",
    "Создание данных для обучения и тестирования для сети 'dim'\n",
    "Achtung! Непонятные глюки - файлы создаются не с первого раза!\n",
    "\n",
    "'''"
   ]
  },
  {
   "cell_type": "code",
   "execution_count": 7,
   "metadata": {},
   "outputs": [],
   "source": [
    "import csv\n",
    "\n",
    "dim = 10\n",
    "size = pow(2, dim)  # 9 -> 512\n",
    "data_file = open(f'data{dim}.csv', mode='w')\n",
    "data_writer = csv.writer(data_file, delimiter=',')\n",
    "\n",
    "target_file = open(f'target{dim}.csv', mode='w')\n",
    "target_writer = csv.writer(target_file, delimiter=',')\n",
    "\n",
    "for i in range(size):\n",
    "    bits = []\n",
    "    nums = []\n",
    "    n = 0\n",
    "    for j in range(dim):\n",
    "        if i & 1:\n",
    "            bits.append('1')\n",
    "            n += 1\n",
    "        else :\n",
    "            bits.append('0')\n",
    "        i = i >> 1\n",
    "    \n",
    "    for j in range(dim + 1):\n",
    "        if n == j:\n",
    "            nums.append('1')\n",
    "        else:\n",
    "            nums.append('0')\n",
    "            \n",
    "    data_writer.writerow(bits)\n",
    "    target_writer.writerow(nums)\n",
    "\n",
    "    "
   ]
  },
  {
   "cell_type": "code",
   "execution_count": null,
   "metadata": {},
   "outputs": [],
   "source": []
  },
  {
   "cell_type": "code",
   "execution_count": null,
   "metadata": {},
   "outputs": [],
   "source": []
  }
 ],
 "metadata": {
  "kernelspec": {
   "display_name": "Python 3",
   "language": "python",
   "name": "python3"
  },
  "language_info": {
   "codemirror_mode": {
    "name": "ipython",
    "version": 3
   },
   "file_extension": ".py",
   "mimetype": "text/x-python",
   "name": "python",
   "nbconvert_exporter": "python",
   "pygments_lexer": "ipython3",
   "version": "3.7.4"
  }
 },
 "nbformat": 4,
 "nbformat_minor": 4
}
